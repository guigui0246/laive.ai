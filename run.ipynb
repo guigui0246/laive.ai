{
 "cells": [
  {
   "cell_type": "markdown",
   "metadata": {},
   "source": [
    "# Start"
   ]
  },
  {
   "cell_type": "code",
   "execution_count": 1,
   "metadata": {},
   "outputs": [
    {
     "name": "stderr",
     "output_type": "stream",
     "text": [
      "c:\\Users\\guigui0246-EPITECH\\AppData\\Local\\Programs\\Python\\Python313\\Lib\\site-packages\\tqdm\\auto.py:21: TqdmWarning: IProgress not found. Please update jupyter and ipywidgets. See https://ipywidgets.readthedocs.io/en/stable/user_install.html\n",
      "  from .autonotebook import tqdm as notebook_tqdm\n"
     ]
    }
   ],
   "source": [
    "import ai\n",
    "\n",
    "ai.load(\"key.txt\")\n",
    "\n",
    "# ai.add(\"CollinsSuzanne-HungerGames-1HungerGames2008.French.ebook_1.pdf\")\n",
    "\n",
    "# ai.add(\"harry-potter-1-lecole-des-sorciers.pdf\")\n",
    "\n",
    "# ai.add(\"harry-potter-2-la-chambre-des-secrets.pdf\")\n",
    "\n",
    "with open(\"harry_potter.txt\") as f:\n",
    "    ai.add(f)\n",
    "\n",
    "with open(\"hunger_games.txt\") as f:\n",
    "    ai.add(f)\n"
   ]
  },
  {
   "cell_type": "markdown",
   "metadata": {},
   "source": [
    "# Ask\n",
    "Just ask your question"
   ]
  },
  {
   "cell_type": "code",
   "execution_count": 2,
   "metadata": {},
   "outputs": [
    {
     "name": "stdout",
     "output_type": "stream",
     "text": [
      "[\"Harry remonta dans le dortoir en pensant Ã\\xa0 ce qu'avait dit Hermione. Le chien Ã©tait lÃ\\xa0 pour garder quelque chose. Qu'avait dit Hagrid, dÃ©jÃ\\xa0 ? Que Gringotts Ã©tait le meilleur endroit pour cacher un objet-en dehors de Poudlard, peut-Ãªtre. Apparemment, Harry avait dÃ©couvert oÃ¹ se trouvait dÃ©sormais le petit paquet que Hagrid Ã©tait allÃ© chercher dans la chambre forte\", \"\\nChapitre 11\\nLe match de Quidditch\\n\\nC'est le premier match de Quidditch pour Harry. Il opposera l'Ã©quipe de Gryffondor Ã\\xa0 celle de Serpentard. Harry dÃ©couvre que les jumeaux Fred et Georges Weasley font partie de l'Ã©quipe et occupent le poste de batteurs. Ce poste consiste Ã\\xa0 protÃ©ger les joueurs de son Ã©quipe des Cognards et Ã\\xa0 les lancer en direction de l'Ã©quipe adverse.\\nLe professeur Bibine, le professeur de vol, arbitre le match. Une fois que tous les joueurs sont regroupÃ©s au dessus d'elle, elle met le Souafle en jeu commenÃ§ant ainsi la partie. Rapidement, les poursuiveurs de Gryffondor prennent possession de la balle et marque un premier but faisant remporter 10 points Ã\\xa0 Gryffondor.\\nMalheureusement, aprÃ¨s quelques minutes de jeu, le balai de Harry est dÃ©tournÃ© par un malÃ©fice inconnu : il emporte Harry de plus en plus haut et cherche Ã\\xa0 le faire tomber. Dans les tribunes, Hermione aperÃ§oit le professeur Rogue formuler des incantations en regardant fixement Harry. Elle court vers lui pour le dÃ©stabiliser, renverse au passage le professeur de lutte contre les forces du mal, le professeur Quirrell, envoie une Ã©tincelle sur la robe de Rogue qui prend feu.\\nLe feu s'Ã©teint vite, Harry reprend le contrÃ´le de son balai, descend en piquÃ© vers le Vif d'or et atterrit brutalement au sol aprÃ¨s avoir attrapÃ© le Vif d'or avec sa bouche... Le rÃ¨glement du Quidditch n'interdisant pas cela, Gryffondor gagne le match avec un score de 170 Ã\\xa0 60 points.\\nAprÃ¨s le match, Harry, Ron et Hermione vont boire un thÃ© chez Hagrid. Ils apprennent que Hagrid a prÃªtÃ© Touffu, son chien, Ã\\xa0 Dumbledore pour garder quelque chose. Les trois amis racontent Ã\\xa0 Hagrid que Rogue est derriÃ¨re tout Ã§a, qu'il a libÃ©rÃ© le troll pour voler ce que Touffu garde et qu'il a essayÃ© de tuer Harry pendant le match de Quidditch. Hagrid ne les croit pas et pense que Rogue ne ferait jamais de mal Ã\\xa0 un Ã©lÃ¨ve. Il ajoute qu'ils devraient arrÃªter de se mÃªler de ces histoires car cela ne regarde que Dumbledore et son ami Nicolas Flamel..\", \"  Chapitre 15 La forÃªt interdite\\n\\nLe lendemain, quand les Ã©lÃ¨ves de Gryffondor passÃ¨rent devant les sabliers gÃ©ants qui comptabilisaient les points de chaque maison, ils crurent d'abord Ã\\xa0 une erreur. Comment auraient-ils pu perdre cent cinquante points en une nuit ? L'histoire commenÃ§a alors Ã\\xa0 se rÃ©pandre: c'Ã©tait Harry Potter, le cÃ©lÃ¨bre Harry Potter qui leur avait fait perdre tous ces points, lui et deux autres idiots de premiÃ¨re annÃ©e. Harry qui avait Ã©tÃ© le plus populaire, le plus admirÃ© des Ã©lÃ¨ves de l'Ã©cole devint brusquement celui qu'on dÃ©testait le plus. MÃªme les Serdaigle et les Poufsouffle s'en prenaient Ã\\xa0 lui, car ils avaient tous espÃ©rÃ© que les Serpentard perdraient la coupe. Partout oÃ¹ Harry apparaissait, on le montrait du doigt, on l'insultait Ã\\xa0 haute voix. Les Serpentard, en revanche, applaudissaient et l'acclamaient chaque fois qu'ils le voyaient passer\", \"La veille de NoÃ«l, Harry se coucha en pensant au lendemain. Ce serait une bonne journÃ©e et il y aurait un rÃ©veillon, mais il ne s'attendait pas Ã\\xa0 recevoir de cadeaux. Lorsqu'il s'Ã©veilla, cependant, il aperÃ§ut un petit tas de paquets au pied de son lit\", \"Harry avala sa salive avec difficultÃ©. Il paya les sept Gallions que coÃ»tait la baguette et le vieil homme les raccompagna jusqu'Ã\\xa0 la porte de sa boutique\"]\n",
      "Le point commun entre le père d'Harry Potter et le père du personnage principal de \"Hunger Games\" (Katniss Everdeen) est qu'ils sont tous les deux morts avant le début des événements des séries de livres respective. Les deux personnages laissent des héritages significatifs à leurs enfants, soit à travers des connaissances, des compétences ou des valeurs qui jouent un rôle important dans le développement de leurs enfants et dans les événements ultérieurs des histoires."
     ]
    },
    {
     "data": {
      "text/plain": [
       "'Le point commun entre le père d\\'Harry Potter et le père du personnage principal de \"Hunger Games\" (Katniss Everdeen) est qu\\'ils sont tous les deux morts avant le début des événements des séries de livres respective. Les deux personnages laissent des héritages significatifs à leurs enfants, soit à travers des connaissances, des compétences ou des valeurs qui jouent un rôle important dans le développement de leurs enfants et dans les événements ultérieurs des histoires.'"
      ]
     },
     "execution_count": 2,
     "metadata": {},
     "output_type": "execute_result"
    }
   ],
   "source": [
    "import sys\n",
    "\n",
    "ai.ask(\n",
    "    \"Quel est le point commun entre le père d'Harry Potter et le père du personnage de Hunger Games ?\"\n",
    "    , sys.stdout\n",
    ")"
   ]
  },
  {
   "cell_type": "markdown",
   "metadata": {},
   "source": [
    "# Stop \n",
    "Run this in case it is needed"
   ]
  },
  {
   "cell_type": "code",
   "execution_count": 3,
   "metadata": {},
   "outputs": [
    {
     "data": {
      "text/plain": [
       "'AI model unloaded successfully'"
      ]
     },
     "execution_count": 3,
     "metadata": {},
     "output_type": "execute_result"
    }
   ],
   "source": [
    "ai.unload()"
   ]
  }
 ],
 "metadata": {
  "kernelspec": {
   "display_name": "Python 3",
   "language": "python",
   "name": "python3"
  },
  "language_info": {
   "codemirror_mode": {
    "name": "ipython",
    "version": 3
   },
   "file_extension": ".py",
   "mimetype": "text/x-python",
   "name": "python",
   "nbconvert_exporter": "python",
   "pygments_lexer": "ipython3",
   "version": "3.13.0"
  }
 },
 "nbformat": 4,
 "nbformat_minor": 2
}
