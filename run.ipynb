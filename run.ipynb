{
 "cells": [
  {
   "cell_type": "markdown",
   "metadata": {},
   "source": [
    "# Start"
   ]
  },
  {
   "cell_type": "code",
   "execution_count": null,
   "metadata": {},
   "outputs": [
    {
     "name": "stderr",
     "output_type": "stream",
     "text": [
      "c:\\Users\\guigui0246-EPITECH\\AppData\\Local\\Programs\\Python\\Python313\\Lib\\site-packages\\tqdm\\auto.py:21: TqdmWarning: IProgress not found. Please update jupyter and ipywidgets. See https://ipywidgets.readthedocs.io/en/stable/user_install.html\n",
      "  from .autonotebook import tqdm as notebook_tqdm\n",
      "You set `add_prefix_space`. The tokenizer needs to be converted from the slow tokenizers\n",
      "Device set to use cuda:0\n"
     ]
    },
    {
     "name": "stdout",
     "output_type": "stream",
     "text": [
      "Error reading PDF CollinsSuzanne-HungerGames-1HungerGames2008.French.ebook_1.pdf: Unable to get page count. Is poppler installed and in PATH?\n",
      "Error reading PDF harry-potter-1-lecole-des-sorciers.pdf: Unable to get page count. Is poppler installed and in PATH?\n",
      "Error reading PDF harry-potter-2-la-chambre-des-secrets.pdf: Unable to get page count. Is poppler installed and in PATH?\n"
     ]
    }
   ],
   "source": [
    "import ai\n",
    "\n",
    "ai.load()\n",
    "\n",
    "# ai.add(\"CollinsSuzanne-HungerGames-1HungerGames2008.French.ebook_1.pdf\")\n",
    "\n",
    "# ai.add(\"harry-potter-1-lecole-des-sorciers.pdf\")\n",
    "\n",
    "# ai.add(\"harry-potter-2-la-chambre-des-secrets.pdf\")\n",
    "\n",
    "with open(\"harry_potter.txt\") as f:\n",
    "    ai.add(f)\n",
    "\n",
    "with open(\"hunger_games.txt\") as f:\n",
    "    ai.add(f)\n"
   ]
  },
  {
   "cell_type": "markdown",
   "metadata": {},
   "source": [
    "# Ask\n",
    "Just ask your question"
   ]
  },
  {
   "cell_type": "code",
   "execution_count": 2,
   "metadata": {},
   "outputs": [
    {
     "name": "stdout",
     "output_type": "stream",
     "text": [
      "['CollinsSuzanne-HungerGames-1HungerGames2008.French.ebook_1.pdf\\n\\nharry-potter-1-lecole-des-sorciers.pdf\\n\\nharry-potter-2-la-chambre-des-secrets.pdf', 'CollinsSuzanne-HungerGames-1HungerGames2008.French.ebook_1.pdf\\n\\nharry-potter-1-lecole-des-sorciers.pdf\\n\\nharry-potter-2-la-chambre-des-secrets.pdf', 'CollinsSuzanne-HungerGames-1HungerGames2008.French.ebook_1.pdf\\n\\nharry-potter-1-lecole-des-sorciers.pdf\\n\\nharry-potter-2-la-chambre-des-secrets.pdf', 'CollinsSuzanne-HungerGames-1HungerGames2008.French.ebook_1.pdf\\n\\nharry-potter-1-lecole-des-sorciers.pdf\\n\\nharry-potter-2-la-chambre-des-secrets.pdf', 'CollinsSuzanne-HungerGames-1HungerGames2008.French.ebook_1.pdf\\n\\nharry-potter-1-lecole-des-sorciers.pdf\\n\\nharry-potter-2-la-chambre-des-secrets.pdf']\n",
      " l'adresse suivante : http://www.harripotter.com"
     ]
    },
    {
     "data": {
      "text/plain": [
       "\" l'adresse suivante : http://www.harripotter.com\""
      ]
     },
     "execution_count": 2,
     "metadata": {},
     "output_type": "execute_result"
    }
   ],
   "source": [
    "import sys\n",
    "\n",
    "ai.ask(\n",
    "    \"Quel est le point commun entre le père d'Harry Potter et le père du personnage de Hunger Games ?\"\n",
    "    , sys.stdout\n",
    ")"
   ]
  },
  {
   "cell_type": "markdown",
   "metadata": {},
   "source": [
    "# Stop \n",
    "Run this in case it is needed"
   ]
  },
  {
   "cell_type": "code",
   "execution_count": 3,
   "metadata": {},
   "outputs": [
    {
     "data": {
      "text/plain": [
       "'AI model unloaded successfully'"
      ]
     },
     "execution_count": 3,
     "metadata": {},
     "output_type": "execute_result"
    }
   ],
   "source": [
    "ai.unload()"
   ]
  }
 ],
 "metadata": {
  "kernelspec": {
   "display_name": "Python 3",
   "language": "python",
   "name": "python3"
  },
  "language_info": {
   "codemirror_mode": {
    "name": "ipython",
    "version": 3
   },
   "file_extension": ".py",
   "mimetype": "text/x-python",
   "name": "python",
   "nbconvert_exporter": "python",
   "pygments_lexer": "ipython3",
   "version": "3.13.0"
  }
 },
 "nbformat": 4,
 "nbformat_minor": 2
}
