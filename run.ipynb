{
 "cells": [
  {
   "cell_type": "markdown",
   "metadata": {},
   "source": [
    "# Start"
   ]
  },
  {
   "cell_type": "code",
   "execution_count": 1,
   "metadata": {},
   "outputs": [
    {
     "name": "stderr",
     "output_type": "stream",
     "text": [
      "c:\\Users\\guigui0246-EPITECH\\AppData\\Local\\Programs\\Python\\Python313\\Lib\\site-packages\\tqdm\\auto.py:21: TqdmWarning: IProgress not found. Please update jupyter and ipywidgets. See https://ipywidgets.readthedocs.io/en/stable/user_install.html\n",
      "  from .autonotebook import tqdm as notebook_tqdm\n"
     ]
    }
   ],
   "source": [
    "import ai\n",
    "\n",
    "ai.load(\"key.txt\")\n",
    "\n",
    "# ai.add(\"CollinsSuzanne-HungerGames-1HungerGames2008.French.ebook_1.pdf\")\n",
    "\n",
    "# ai.add(\"harry-potter-1-lecole-des-sorciers.pdf\")\n",
    "\n",
    "# ai.add(\"harry-potter-2-la-chambre-des-secrets.pdf\")\n",
    "\n",
    "with open(\"harry_potter.txt\") as f:\n",
    "    ai.add(f)\n",
    "\n",
    "with open(\"hunger_games.txt\") as f:\n",
    "    ai.add(f)\n"
   ]
  },
  {
   "cell_type": "markdown",
   "metadata": {},
   "source": [
    "# Ask\n",
    "Just ask your question"
   ]
  },
  {
   "cell_type": "code",
   "execution_count": 2,
   "metadata": {},
   "outputs": [
    {
     "name": "stdout",
     "output_type": "stream",
     "text": [
      "Le point commun entre le père d'Harry Potter, James Potter, et le père du personnage de Hunger Games, Katniss Everdeen, c'est qu'ils sont tous les deux décédés. James Potter a été tué par Voldemort quand Harry était très jeune, tandis que le père de Katniss est mort dans une explosion de mine dans le district où ils vivaient.\n",
      "Le train \"Poudlard Express\" est parti de la gare le 1er septembre à 11 heures du matin.\n",
      "Hermione s'est enfermée dans les toilettes des filles parce qu'elle a entendu Ron se moquer d'elle le jour d'Halloween, ce qui l'a profondément blessée et a fait qu'elle a cherché refuge dans les toilettes pour pleurer.\n",
      "Firenze est un centaure qui vit dans la Forêt interdite près de l'école de Poudlard. Dans l'extrait que vous avez fourni, il aide Harry en le sauvant dans la forêt et en lui fournissant des informations cruciales concernant la Pierre philosophale. Firenze informe Harry que la Pierre philosophale, qui donne l'élixir de la longue vie et permet ainsi de ne jamais mourir, est cachée à ce moment-là dans l'école. Cette information s'avère vitale pour la quête de Harry pour protéger la pierre des forces du mal, notamment celles de Voldemort qui cherche à retrouver son pouvoir et sa mortalité.\n",
      "L'ami roux de Harry s'appelle Ronald Weasley, souvent appelé Ron.\n",
      "Le nom de la sœur de Katniss Everdeen dans \"Hunger Games\" est Prim. \n",
      "Harry Potter, le personnage principal de la série \"Harry Potter\", est né le 31 juillet 1980. Katniss Everdeen, le personnage principal de la série \"Hunger Games\", est née le 8 mai 1989. Cela fait de Harry Potter le plus âgé des deux personnages.\n"
     ]
    },
    {
     "data": {
      "text/plain": [
       "'Harry Potter, le personnage principal de la série \"Harry Potter\", est né le 31 juillet 1980. Katniss Everdeen, le personnage principal de la série \"Hunger Games\", est née le 8 mai 1989. Cela fait de Harry Potter le plus âgé des deux personnages.'"
      ]
     },
     "execution_count": 2,
     "metadata": {},
     "output_type": "execute_result"
    }
   ],
   "source": [
    "import sys\n",
    "\n",
    "ai.ask(\n",
    "    \"Quel est le point commun entre le père d'Harry Potter et le père du personnage de Hunger Games ?\"\n",
    "    , sys.stdout\n",
    ")\n",
    "\n",
    "ai.ask(\n",
    "    \"À quelle heure le train \\\"Poudlard Express\\\" est parti de la gare ?\"\n",
    "    , sys.stdout\n",
    ")\n",
    "\n",
    "ai.ask(\n",
    "    \"Pourquoi Hermione s'est enfermée dans les toilettes des filles ?\"\n",
    "    , sys.stdout\n",
    ")\n",
    "\n",
    "ai.ask(\n",
    "    \"Qui est Firenze et comment a-t-il aidé Harry ?\"\n",
    "    , sys.stdout\n",
    ")\n",
    "\n",
    "ai.ask(\n",
    "    \"Comment s'appelle l'ami roux de Harry ?\"\n",
    "    , sys.stdout\n",
    ")\n",
    "\n",
    "ai.ask(\n",
    "    \"Quel est le nom de la sœur de Katniss Everdeen dans Hunger Games ?\"\n",
    "    , sys.stdout\n",
    ")\n",
    "\n",
    "ai.ask(\n",
    "    \"Qui est le plus âgé des personnages principaux entre Harry Potter et Katniss Everdeen ?\"\n",
    "    , sys.stdout\n",
    ")"
   ]
  },
  {
   "cell_type": "markdown",
   "metadata": {},
   "source": [
    "# Stop \n",
    "Run this in case it is needed"
   ]
  },
  {
   "cell_type": "code",
   "execution_count": 3,
   "metadata": {},
   "outputs": [
    {
     "data": {
      "text/plain": [
       "'AI model unloaded successfully'"
      ]
     },
     "execution_count": 3,
     "metadata": {},
     "output_type": "execute_result"
    }
   ],
   "source": [
    "ai.unload()"
   ]
  }
 ],
 "metadata": {
  "kernelspec": {
   "display_name": "Python 3",
   "language": "python",
   "name": "python3"
  },
  "language_info": {
   "codemirror_mode": {
    "name": "ipython",
    "version": 3
   },
   "file_extension": ".py",
   "mimetype": "text/x-python",
   "name": "python",
   "nbconvert_exporter": "python",
   "pygments_lexer": "ipython3",
   "version": "3.13.0"
  }
 },
 "nbformat": 4,
 "nbformat_minor": 2
}
