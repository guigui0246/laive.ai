{
 "cells": [
  {
   "cell_type": "markdown",
   "metadata": {},
   "source": [
    "# Start"
   ]
  },
  {
   "cell_type": "code",
   "execution_count": null,
   "metadata": {},
   "outputs": [],
   "source": [
    "import ai\n",
    "\n",
    "ai.load()\n",
    "\n",
    "# ai.add(\"CollinsSuzanne-HungerGames-1HungerGames2008.French.ebook_1.pdf\")\n",
    "\n",
    "# ai.add(\"harry-potter-1-lecole-des-sorciers.pdf\")\n",
    "\n",
    "# ai.add(\"harry-potter-2-la-chambre-des-secrets.pdf\")\n",
    "\n",
    "with open(\"harry_potter.txt\") as f:\n",
    "    ai.add(f)\n",
    "\n",
    "with open(\"hunger_games.txt\") as f:\n",
    "    ai.add(f)\n"
   ]
  },
  {
   "cell_type": "markdown",
   "metadata": {},
   "source": [
    "# Ask\n",
    "Just ask your question"
   ]
  },
  {
   "cell_type": "code",
   "execution_count": null,
   "metadata": {},
   "outputs": [],
   "source": [
    "import sys\n",
    "\n",
    "ai.ask(\n",
    "    \"Quel est le point commun entre le père d'Harry Potter et le père du personnage de Hunger Games ?\"\n",
    "    , sys.stdout\n",
    ")"
   ]
  },
  {
   "cell_type": "markdown",
   "metadata": {},
   "source": [
    "# Stop \n",
    "Run this in case it is needed"
   ]
  },
  {
   "cell_type": "code",
   "execution_count": null,
   "metadata": {},
   "outputs": [],
   "source": [
    "ai.unload()"
   ]
  }
 ],
 "metadata": {
  "kernelspec": {
   "display_name": "Python 3",
   "language": "python",
   "name": "python3"
  },
  "language_info": {
   "codemirror_mode": {
    "name": "ipython",
    "version": 3
   },
   "file_extension": ".py",
   "mimetype": "text/x-python",
   "name": "python",
   "nbconvert_exporter": "python",
   "pygments_lexer": "ipython3",
   "version": "3.13.0"
  }
 },
 "nbformat": 4,
 "nbformat_minor": 2
}
